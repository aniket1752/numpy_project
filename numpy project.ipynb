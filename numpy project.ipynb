{
 "cells": [
  {
   "cell_type": "markdown",
   "id": "a6c6fb33-42d8-4f52-b846-d59b27b94980",
   "metadata": {},
   "source": [
    "Target questions:\n",
    "mean speed of all rides\n",
    "number of rides taken in febuary\n",
    "number of rides where tip more than $50\n",
    "number of rides where drop was JFK airport\n",
    "https://www.youtube.com/watch?v=0xwFgi1rnlc"
   ]
  },
  {
   "cell_type": "code",
   "execution_count": 1,
   "id": "7c3abaf9-e926-4a88-a75d-08f722f504dc",
   "metadata": {},
   "outputs": [],
   "source": [
    "import numpy as np"
   ]
  },
  {
   "cell_type": "code",
   "execution_count": 44,
   "id": "9837ab07-6dd5-4008-89ef-7c6801aab13d",
   "metadata": {},
   "outputs": [],
   "source": [
    "taxi=np.genfromtxt(\"D:\\\\python\\\\Numpy\\\\nyc_taxis.csv\",delimiter=',',skip_header=True)"
   ]
  },
  {
   "cell_type": "code",
   "execution_count": 43,
   "id": "01040bf2-93b3-4421-9841-9ad1035ac503",
   "metadata": {},
   "outputs": [
    {
     "name": "stdout",
     "output_type": "stream",
     "text": [
      "32.24258580925573 kmh\n"
     ]
    }
   ],
   "source": [
    "# Q.1 mean speed of all rides\n",
    "#assuming trip_distance as time in sec for each trip\n",
    "#speed=distance/time\n",
    "speed=taxi[:,7]/(taxi[:,8]/3600) #as 8th column is time in sec, we have to convert it into hours, we'll multiply that by  3600\n",
    "mean_speed=speed.mean()\n",
    "print(mean_speed,'kmh')\n"
   ]
  },
  {
   "cell_type": "code",
   "execution_count": 53,
   "id": "003fdbf4-2816-4562-8839-d9772e5854e7",
   "metadata": {
    "jupyter": {
     "source_hidden": true
    }
   },
   "outputs": [
    {
     "name": "stdout",
     "output_type": "stream",
     "text": [
      "rides taken in febuary: 13333\n"
     ]
    }
   ],
   "source": [
    "# Q.2)number of rides taken in febuary\n",
    "rides_feb=taxi[:,1]==2\n",
    "count=0\n",
    "for i in rides_feb:\n",
    "    if i==True:\n",
    "        count+=1\n",
    "print('rides taken in febuary:',count)"
   ]
  },
  {
   "cell_type": "code",
   "execution_count": 63,
   "id": "ca91a402-13dc-4cf3-a245-548407ee0e5b",
   "metadata": {},
   "outputs": [
    {
     "name": "stdout",
     "output_type": "stream",
     "text": [
      "number of rides where tip more than $50: 16\n"
     ]
    }
   ],
   "source": [
    "# number of rides where tip more than $50\n",
    "rides_tip=taxi[:,-3]>50\n",
    "count=0\n",
    "for i in rides_tip:\n",
    "    if i==True:\n",
    "        count+=1\n",
    "print('number of rides where tip more than $50:',count)\n"
   ]
  },
  {
   "cell_type": "code",
   "execution_count": 74,
   "id": "9518a8cf-daa5-4c1d-af7a-e22b42b9e9dd",
   "metadata": {},
   "outputs": [
    {
     "name": "stdout",
     "output_type": "stream",
     "text": [
      "number of rides where drop was JFK airport  (11832,)\n"
     ]
    }
   ],
   "source": [
    "# \"number of rides where drop was JFK airport \",count)(code of jfk airport=2)\n",
    "drop_jfk=taxi[taxi[:,6]==2,6]\n",
    "print('number of rides where drop was JFK airport ',np.shape(drop_jfk))"
   ]
  },
  {
   "cell_type": "code",
   "execution_count": null,
   "id": "d53d800b-c116-4b1a-bba5-292d4fc8a29f",
   "metadata": {},
   "outputs": [],
   "source": []
  }
 ],
 "metadata": {
  "kernelspec": {
   "display_name": "Python 3 (ipykernel)",
   "language": "python",
   "name": "python3"
  },
  "language_info": {
   "codemirror_mode": {
    "name": "ipython",
    "version": 3
   },
   "file_extension": ".py",
   "mimetype": "text/x-python",
   "name": "python",
   "nbconvert_exporter": "python",
   "pygments_lexer": "ipython3",
   "version": "3.12.6"
  }
 },
 "nbformat": 4,
 "nbformat_minor": 5
}
